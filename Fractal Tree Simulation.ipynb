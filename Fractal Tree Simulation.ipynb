{
 "cells": [
  {
   "cell_type": "code",
   "execution_count": null,
   "metadata": {},
   "outputs": [],
   "source": [
    "import turtle\n",
    "\n",
    "def setTurtle(myTuple):\n",
    "    t.up()\n",
    "    t.setx(myTuple[0])\n",
    "    t.sety(myTuple[1])\n",
    "    t.setheading(myTuple[2])\n",
    "    t.down()\n",
    "\n",
    "def make_fractal(length,langle,rangle,iterations,axiom,target,replace,target2,replace2):\n",
    "    state = axiom\n",
    "    turtleState=[]\n",
    "    \n",
    "    #make the L-System we want to process\n",
    "    for i in range(iterations):\n",
    "        nextState=''\n",
    "        for character in state:\n",
    "            if character == target:\n",
    "                nextState += replace\n",
    "            elif character == target2:\n",
    "                nextState += replace2\n",
    "            else:\n",
    "                nextState += character\n",
    "        state = nextState\n",
    "\n",
    "    for move in state: \n",
    "        if move == '[':\n",
    "            turtleState.append((t.xcor(),t.ycor(),t.heading()))\n",
    "        elif move == ']':\n",
    "            setTurtle(turtleState.pop())\n",
    "        elif move == \"F\":\n",
    "            t.forward(length)\n",
    "        elif move == \"L\":\n",
    "            t.left(langle)\n",
    "        elif move == \"R\":\n",
    "            t.right(rangle)\n",
    "\n",
    "if __name__ == '__main__':\n",
    "    iterations = int(input(\"Enter the number of generations: \"))\n",
    "    myLen = int(input(\"Enter the forward movement length: \"))\n",
    "    t = turtle.Turtle()\n",
    "    t.speed(0)\n",
    "    turtle.bgcolor('black')\n",
    "    t.color('green','black')\n",
    "    setTurtle((0,-250,90))\n",
    "\n",
    "    #Simple plant\n",
    "    make_fractal(myLen,25,25,iterations,'B','F','FF','B','F[RB]F[LB]RB')\n",
    "\n",
    "   \n"
   ]
  },
  {
   "cell_type": "code",
   "execution_count": null,
   "metadata": {},
   "outputs": [],
   "source": []
  }
 ],
 "metadata": {
  "kernelspec": {
   "display_name": "Python 3",
   "language": "python",
   "name": "python3"
  },
  "language_info": {
   "codemirror_mode": {
    "name": "ipython",
    "version": 3
   },
   "file_extension": ".py",
   "mimetype": "text/x-python",
   "name": "python",
   "nbconvert_exporter": "python",
   "pygments_lexer": "ipython3",
   "version": "3.7.4"
  }
 },
 "nbformat": 4,
 "nbformat_minor": 2
}
